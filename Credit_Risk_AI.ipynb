{
 "cells": [
  {
   "cell_type": "code",
   "execution_count": 2,
   "metadata": {},
   "outputs": [
    {
     "ename": "NameError",
     "evalue": "name 'data' is not defined",
     "output_type": "error",
     "traceback": [
      "\u001b[0;31m---------------------------------------------------------------------------\u001b[0m",
      "\u001b[0;31mNameError\u001b[0m                                 Traceback (most recent call last)",
      "Cell \u001b[0;32mIn[2], line 6\u001b[0m\n\u001b[1;32m      3\u001b[0m \u001b[38;5;28;01mfrom\u001b[39;00m \u001b[38;5;21;01mpandasai\u001b[39;00m \u001b[38;5;28;01mimport\u001b[39;00m Agent\n\u001b[1;32m      5\u001b[0m \u001b[38;5;66;03m# Sample DataFrame\u001b[39;00m\n\u001b[0;32m----> 6\u001b[0m sales_by_country \u001b[38;5;241m=\u001b[39m \u001b[43mdata\u001b[49m\n\u001b[1;32m      8\u001b[0m \u001b[38;5;66;03m# By default, unless you choose a different LLM, it will use BambooLLM.\u001b[39;00m\n\u001b[1;32m      9\u001b[0m \u001b[38;5;66;03m# You can get your free API key signing up at https://pandabi.ai (you can also configure it in your .env file)\u001b[39;00m\n\u001b[1;32m     10\u001b[0m os\u001b[38;5;241m.\u001b[39menviron[\u001b[38;5;124m\"\u001b[39m\u001b[38;5;124mPANDASAI_API_KEY\u001b[39m\u001b[38;5;124m\"\u001b[39m] \u001b[38;5;241m=\u001b[39m \u001b[38;5;124m\"\u001b[39m\u001b[38;5;124m$2a$10$7VpELeb8twh9xxhazy.S0eYlS0j0qJxRiKUblX7lfVvb/BW.a5.mG\u001b[39m\u001b[38;5;124m\"\u001b[39m\n",
      "\u001b[0;31mNameError\u001b[0m: name 'data' is not defined"
     ]
    }
   ],
   "source": [
    "import os\n",
    "import pandas as pd\n",
    "from pandasai import Agent\n",
    "\n",
    "# Sample DataFrame\n",
    "sales_by_country = cleaned_data\n",
    "\n",
    "# By default, unless you choose a different LLM, it will use BambooLLM.\n",
    "# You can get your free API key signing up at https://pandabi.ai (you can also configure it in your .env file)\n",
    "os.environ[\"PANDASAI_API_KEY\"] = \"your_key\"\n",
    "\n",
    "#change this to your key\n",
    "\n",
    "agent = Agent(sales_by_country)\n",
    "agent.chat('plot a ROC curve for the KNN machine learning model')"
   ]
  }
 ],
 "metadata": {
  "kernelspec": {
   "display_name": "sebi",
   "language": "python",
   "name": "python3"
  },
  "language_info": {
   "codemirror_mode": {
    "name": "ipython",
    "version": 3
   },
   "file_extension": ".py",
   "mimetype": "text/x-python",
   "name": "python",
   "nbconvert_exporter": "python",
   "pygments_lexer": "ipython3",
   "version": "3.11.9"
  }
 },
 "nbformat": 4,
 "nbformat_minor": 2
}
